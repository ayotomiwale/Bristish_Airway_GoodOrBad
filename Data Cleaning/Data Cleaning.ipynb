{
 "cells": [
  {
   "cell_type": "markdown",
   "metadata": {},
   "source": [
    "## Data Cleaning\n",
    "\n",
    "Now since we have extracted data from the website, it is not cleaned and ready to be analyzed yet. The reviews section will need to be cleaned for punctuations, spellings and other characters. "
   ]
  },
  {
   "cell_type": "code",
   "execution_count": 1,
   "metadata": {},
   "outputs": [],
   "source": [
    "#imports\n",
    "\n",
    "import pandas as pd\n",
    "import matplotlib.pyplot as plt\n",
    "import seaborn as sns\n",
    "import os\n",
    "\n",
    "#regex\n",
    "import re"
   ]
  },
  {
   "cell_type": "code",
   "execution_count": 2,
   "metadata": {},
   "outputs": [],
   "source": [
    "#create a dataframe from csv file\n",
    "\n",
    "cwd = os.getcwd()\n",
    "\n",
    "df = pd.read_csv(cwd+\"/BA_reviews.csv\", index_col=0)"
   ]
  },
  {
   "cell_type": "code",
   "execution_count": 3,
   "metadata": {},
   "outputs": [
    {
     "data": {
      "text/html": [
       "<div>\n",
       "<style scoped>\n",
       "    .dataframe tbody tr th:only-of-type {\n",
       "        vertical-align: middle;\n",
       "    }\n",
       "\n",
       "    .dataframe tbody tr th {\n",
       "        vertical-align: top;\n",
       "    }\n",
       "\n",
       "    .dataframe thead th {\n",
       "        text-align: right;\n",
       "    }\n",
       "</style>\n",
       "<table border=\"1\" class=\"dataframe\">\n",
       "  <thead>\n",
       "    <tr style=\"text-align: right;\">\n",
       "      <th></th>\n",
       "      <th>reviews</th>\n",
       "      <th>stars</th>\n",
       "      <th>date</th>\n",
       "      <th>country</th>\n",
       "    </tr>\n",
       "  </thead>\n",
       "  <tbody>\n",
       "    <tr>\n",
       "      <th>0</th>\n",
       "      <td>Not Verified | Worst experience ever. Outbound...</td>\n",
       "      <td>\\n\\t\\t\\t\\t\\t\\t\\t\\t\\t\\t\\t\\t\\t5</td>\n",
       "      <td>7th November 2022</td>\n",
       "      <td>Italy</td>\n",
       "    </tr>\n",
       "    <tr>\n",
       "      <th>1</th>\n",
       "      <td>✅ Trip Verified |  Check in was a shambles at ...</td>\n",
       "      <td>1</td>\n",
       "      <td>7th November 2022</td>\n",
       "      <td>Malaysia</td>\n",
       "    </tr>\n",
       "    <tr>\n",
       "      <th>2</th>\n",
       "      <td>✅ Trip Verified | Beyond disgusted with the fa...</td>\n",
       "      <td>5</td>\n",
       "      <td>5th November 2022</td>\n",
       "      <td>United Arab Emirates</td>\n",
       "    </tr>\n",
       "    <tr>\n",
       "      <th>3</th>\n",
       "      <td>✅ Trip Verified | On July 19th 2022 I had subm...</td>\n",
       "      <td>1</td>\n",
       "      <td>31st October 2022</td>\n",
       "      <td>United States</td>\n",
       "    </tr>\n",
       "    <tr>\n",
       "      <th>4</th>\n",
       "      <td>✅ Trip Verified |  I booked the flight on Oct ...</td>\n",
       "      <td>1</td>\n",
       "      <td>31st October 2022</td>\n",
       "      <td>United States</td>\n",
       "    </tr>\n",
       "  </tbody>\n",
       "</table>\n",
       "</div>"
      ],
      "text/plain": [
       "                                             reviews  \\\n",
       "0  Not Verified | Worst experience ever. Outbound...   \n",
       "1  ✅ Trip Verified |  Check in was a shambles at ...   \n",
       "2  ✅ Trip Verified | Beyond disgusted with the fa...   \n",
       "3  ✅ Trip Verified | On July 19th 2022 I had subm...   \n",
       "4  ✅ Trip Verified |  I booked the flight on Oct ...   \n",
       "\n",
       "                           stars               date               country  \n",
       "0  \\n\\t\\t\\t\\t\\t\\t\\t\\t\\t\\t\\t\\t\\t5  7th November 2022                 Italy  \n",
       "1                              1  7th November 2022              Malaysia  \n",
       "2                              5  5th November 2022  United Arab Emirates  \n",
       "3                              1  31st October 2022         United States  \n",
       "4                              1  31st October 2022         United States  "
      ]
     },
     "execution_count": 3,
     "metadata": {},
     "output_type": "execute_result"
    }
   ],
   "source": [
    "df.head()"
   ]
  },
  {
   "cell_type": "markdown",
   "metadata": {},
   "source": [
    "We will also create a column which mentions if the user is verified or not. "
   ]
  },
  {
   "cell_type": "code",
   "execution_count": 6,
   "metadata": {},
   "outputs": [],
   "source": [
    "df['verified'] = df.reviews.str.contains(\"Trip Verified\")"
   ]
  },
  {
   "cell_type": "code",
   "execution_count": 7,
   "metadata": {},
   "outputs": [
    {
     "data": {
      "text/plain": [
       "0       False\n",
       "1        True\n",
       "2        True\n",
       "3        True\n",
       "4        True\n",
       "        ...  \n",
       "3413    False\n",
       "3414    False\n",
       "3415    False\n",
       "3416    False\n",
       "3417    False\n",
       "Name: verified, Length: 3418, dtype: bool"
      ]
     },
     "execution_count": 7,
     "metadata": {},
     "output_type": "execute_result"
    }
   ],
   "source": [
    "df['verified']"
   ]
  },
  {
   "cell_type": "markdown",
   "metadata": {},
   "source": [
    "### Cleaning Reviews"
   ]
  },
  {
   "cell_type": "markdown",
   "metadata": {},
   "source": [
    "We will extract the column of reviews into a separate dataframe and clean it for semantic analysis"
   ]
  },
  {
   "cell_type": "code",
   "execution_count": 12,
   "metadata": {},
   "outputs": [
    {
     "name": "stdout",
     "output_type": "stream",
     "text": [
      "[nltk_data] Downloading package wordnet to\n",
      "[nltk_data]     C:\\Users\\USER\\AppData\\Roaming\\nltk_data...\n"
     ]
    },
    {
     "data": {
      "text/plain": [
       "True"
      ]
     },
     "execution_count": 12,
     "metadata": {},
     "output_type": "execute_result"
    }
   ],
   "source": [
    "#import nltk\n",
    "#nltk.download('stopwords')\n",
    "nltk.download('wordnet')"
   ]
  },
  {
   "cell_type": "code",
   "execution_count": 13,
   "metadata": {},
   "outputs": [],
   "source": [
    "#for lemmatization of words we will use nltk library\n",
    "from nltk.stem import WordNetLemmatizer\n",
    "from nltk.corpus import stopwords\n",
    "lemma = WordNetLemmatizer()\n",
    "\n",
    "\n",
    "reviews_data = df.reviews.str.strip(\"✅ Trip Verified |\")\n",
    "\n",
    "#create an empty list to collect cleaned data corpus\n",
    "corpus =[]\n",
    "\n",
    "#loop through each review, remove punctuations, small case it, join it and add it to corpus\n",
    "for rev in reviews_data:\n",
    "    rev = re.sub('[^a-zA-Z]',' ', rev)\n",
    "    rev = rev.lower()\n",
    "    rev = rev.split()\n",
    "    rev = [lemma.lemmatize(word) for word in rev if word not in set(stopwords.words(\"english\"))]\n",
    "    rev = \" \".join(rev)\n",
    "    corpus.append(rev)"
   ]
  },
  {
   "cell_type": "code",
   "execution_count": 14,
   "metadata": {},
   "outputs": [],
   "source": [
    "# add the corpus to the original dataframe\n",
    "\n",
    "df['corpus'] = corpus"
   ]
  },
  {
   "cell_type": "code",
   "execution_count": 15,
   "metadata": {},
   "outputs": [
    {
     "data": {
      "text/html": [
       "<div>\n",
       "<style scoped>\n",
       "    .dataframe tbody tr th:only-of-type {\n",
       "        vertical-align: middle;\n",
       "    }\n",
       "\n",
       "    .dataframe tbody tr th {\n",
       "        vertical-align: top;\n",
       "    }\n",
       "\n",
       "    .dataframe thead th {\n",
       "        text-align: right;\n",
       "    }\n",
       "</style>\n",
       "<table border=\"1\" class=\"dataframe\">\n",
       "  <thead>\n",
       "    <tr style=\"text-align: right;\">\n",
       "      <th></th>\n",
       "      <th>reviews</th>\n",
       "      <th>stars</th>\n",
       "      <th>date</th>\n",
       "      <th>country</th>\n",
       "      <th>verified</th>\n",
       "      <th>corpus</th>\n",
       "    </tr>\n",
       "  </thead>\n",
       "  <tbody>\n",
       "    <tr>\n",
       "      <th>0</th>\n",
       "      <td>Not Verified | Worst experience ever. Outbound...</td>\n",
       "      <td>\\n\\t\\t\\t\\t\\t\\t\\t\\t\\t\\t\\t\\t\\t5</td>\n",
       "      <td>7th November 2022</td>\n",
       "      <td>Italy</td>\n",
       "      <td>False</td>\n",
       "      <td>verified worst experience ever outbound flight...</td>\n",
       "    </tr>\n",
       "    <tr>\n",
       "      <th>1</th>\n",
       "      <td>✅ Trip Verified |  Check in was a shambles at ...</td>\n",
       "      <td>1</td>\n",
       "      <td>7th November 2022</td>\n",
       "      <td>Malaysia</td>\n",
       "      <td>True</td>\n",
       "      <td>check shamble bwi counter open full flight bag...</td>\n",
       "    </tr>\n",
       "    <tr>\n",
       "      <th>2</th>\n",
       "      <td>✅ Trip Verified | Beyond disgusted with the fa...</td>\n",
       "      <td>5</td>\n",
       "      <td>5th November 2022</td>\n",
       "      <td>United Arab Emirates</td>\n",
       "      <td>True</td>\n",
       "      <td>beyond disgusted fact baggage yet delivered we...</td>\n",
       "    </tr>\n",
       "    <tr>\n",
       "      <th>3</th>\n",
       "      <td>✅ Trip Verified | On July 19th 2022 I had subm...</td>\n",
       "      <td>1</td>\n",
       "      <td>31st October 2022</td>\n",
       "      <td>United States</td>\n",
       "      <td>True</td>\n",
       "      <td>july th submitted complaint form regard fact b...</td>\n",
       "    </tr>\n",
       "    <tr>\n",
       "      <th>4</th>\n",
       "      <td>✅ Trip Verified |  I booked the flight on Oct ...</td>\n",
       "      <td>1</td>\n",
       "      <td>31st October 2022</td>\n",
       "      <td>United States</td>\n",
       "      <td>True</td>\n",
       "      <td>booked flight oct cancel flight day learning g...</td>\n",
       "    </tr>\n",
       "  </tbody>\n",
       "</table>\n",
       "</div>"
      ],
      "text/plain": [
       "                                             reviews  \\\n",
       "0  Not Verified | Worst experience ever. Outbound...   \n",
       "1  ✅ Trip Verified |  Check in was a shambles at ...   \n",
       "2  ✅ Trip Verified | Beyond disgusted with the fa...   \n",
       "3  ✅ Trip Verified | On July 19th 2022 I had subm...   \n",
       "4  ✅ Trip Verified |  I booked the flight on Oct ...   \n",
       "\n",
       "                           stars               date               country  \\\n",
       "0  \\n\\t\\t\\t\\t\\t\\t\\t\\t\\t\\t\\t\\t\\t5  7th November 2022                 Italy   \n",
       "1                              1  7th November 2022              Malaysia   \n",
       "2                              5  5th November 2022  United Arab Emirates   \n",
       "3                              1  31st October 2022         United States   \n",
       "4                              1  31st October 2022         United States   \n",
       "\n",
       "   verified                                             corpus  \n",
       "0     False  verified worst experience ever outbound flight...  \n",
       "1      True  check shamble bwi counter open full flight bag...  \n",
       "2      True  beyond disgusted fact baggage yet delivered we...  \n",
       "3      True  july th submitted complaint form regard fact b...  \n",
       "4      True  booked flight oct cancel flight day learning g...  "
      ]
     },
     "execution_count": 15,
     "metadata": {},
     "output_type": "execute_result"
    }
   ],
   "source": [
    "df.head()"
   ]
  },
  {
   "cell_type": "markdown",
   "metadata": {},
   "source": [
    "### Cleaning/Fromat date"
   ]
  },
  {
   "cell_type": "code",
   "execution_count": 16,
   "metadata": {},
   "outputs": [
    {
     "data": {
      "text/plain": [
       "reviews     object\n",
       "stars       object\n",
       "date        object\n",
       "country     object\n",
       "verified      bool\n",
       "corpus      object\n",
       "dtype: object"
      ]
     },
     "execution_count": 16,
     "metadata": {},
     "output_type": "execute_result"
    }
   ],
   "source": [
    "df.dtypes"
   ]
  },
  {
   "cell_type": "code",
   "execution_count": 17,
   "metadata": {},
   "outputs": [],
   "source": [
    "# convert the date to datetime format\n",
    "\n",
    "df.date = pd.to_datetime(df.date)"
   ]
  },
  {
   "cell_type": "code",
   "execution_count": 18,
   "metadata": {},
   "outputs": [
    {
     "data": {
      "text/plain": [
       "0   2022-11-07\n",
       "1   2022-11-07\n",
       "2   2022-11-05\n",
       "3   2022-10-31\n",
       "4   2022-10-31\n",
       "Name: date, dtype: datetime64[ns]"
      ]
     },
     "execution_count": 18,
     "metadata": {},
     "output_type": "execute_result"
    }
   ],
   "source": [
    "df.date.head()"
   ]
  },
  {
   "cell_type": "markdown",
   "metadata": {},
   "source": [
    "### Cleaning ratings with stars"
   ]
  },
  {
   "cell_type": "code",
   "execution_count": 19,
   "metadata": {},
   "outputs": [
    {
     "data": {
      "text/plain": [
       "array(['\\n\\t\\t\\t\\t\\t\\t\\t\\t\\t\\t\\t\\t\\t5', '1', '5', '6', '9', '3', '2', '8',\n",
       "       '7', '10', '4', 'None'], dtype=object)"
      ]
     },
     "execution_count": 19,
     "metadata": {},
     "output_type": "execute_result"
    }
   ],
   "source": [
    "#check for unique values\n",
    "df.stars.unique()"
   ]
  },
  {
   "cell_type": "code",
   "execution_count": 20,
   "metadata": {},
   "outputs": [],
   "source": [
    "# remove the \\t and \\n from the ratings\n",
    "df.stars = df.stars.str.strip(\"\\n\\t\\t\\t\\t\\t\\t\\t\\t\\t\\t\\t\\t\\t\")"
   ]
  },
  {
   "cell_type": "code",
   "execution_count": 21,
   "metadata": {},
   "outputs": [
    {
     "data": {
      "text/plain": [
       "1       735\n",
       "2       382\n",
       "3       379\n",
       "8       349\n",
       "10      306\n",
       "7       300\n",
       "9       294\n",
       "5       259\n",
       "4       227\n",
       "6       182\n",
       "None      5\n",
       "Name: stars, dtype: int64"
      ]
     },
     "execution_count": 21,
     "metadata": {},
     "output_type": "execute_result"
    }
   ],
   "source": [
    "df.stars.value_counts()"
   ]
  },
  {
   "cell_type": "markdown",
   "metadata": {},
   "source": [
    "There are 5 rows having values \"None\" in the ratings. We will drop all these 5 rows. "
   ]
  },
  {
   "cell_type": "code",
   "execution_count": 22,
   "metadata": {},
   "outputs": [],
   "source": [
    "# drop the rows where the value of ratings is None\n",
    "df.drop(df[df.stars == \"None\"].index, axis=0, inplace=True)"
   ]
  },
  {
   "cell_type": "code",
   "execution_count": 23,
   "metadata": {},
   "outputs": [
    {
     "data": {
      "text/plain": [
       "array(['5', '1', '6', '9', '3', '2', '8', '7', '10', '4'], dtype=object)"
      ]
     },
     "execution_count": 23,
     "metadata": {},
     "output_type": "execute_result"
    }
   ],
   "source": [
    "#check the unique values again\n",
    "df.stars.unique()"
   ]
  },
  {
   "cell_type": "markdown",
   "metadata": {},
   "source": [
    "## Check for null Values"
   ]
  },
  {
   "cell_type": "code",
   "execution_count": 24,
   "metadata": {},
   "outputs": [
    {
     "data": {
      "text/plain": [
       "reviews  stars  date   country  verified  corpus\n",
       "False    False  False  False    False     False     3411\n",
       "                       True     False     False        2\n",
       "dtype: int64"
      ]
     },
     "execution_count": 24,
     "metadata": {},
     "output_type": "execute_result"
    }
   ],
   "source": [
    "df.isnull().value_counts()"
   ]
  },
  {
   "cell_type": "code",
   "execution_count": 25,
   "metadata": {},
   "outputs": [
    {
     "data": {
      "text/plain": [
       "False    3411\n",
       "True        2\n",
       "Name: country, dtype: int64"
      ]
     },
     "execution_count": 25,
     "metadata": {},
     "output_type": "execute_result"
    }
   ],
   "source": [
    "df.country.isnull().value_counts()"
   ]
  },
  {
   "cell_type": "markdown",
   "metadata": {},
   "source": [
    "We have two missing values for country. For this we can just remove those two reviews (rows) from the dataframe. "
   ]
  },
  {
   "cell_type": "code",
   "execution_count": 26,
   "metadata": {},
   "outputs": [],
   "source": [
    "#drop the rows using index where the country value is null\n",
    "df.drop(df[df.country.isnull() == True].index, axis=0, inplace=True)"
   ]
  },
  {
   "cell_type": "code",
   "execution_count": 27,
   "metadata": {},
   "outputs": [
    {
     "data": {
      "text/plain": [
       "(3411, 6)"
      ]
     },
     "execution_count": 27,
     "metadata": {},
     "output_type": "execute_result"
    }
   ],
   "source": [
    "df.shape"
   ]
  },
  {
   "cell_type": "code",
   "execution_count": 28,
   "metadata": {},
   "outputs": [
    {
     "data": {
      "text/html": [
       "<div>\n",
       "<style scoped>\n",
       "    .dataframe tbody tr th:only-of-type {\n",
       "        vertical-align: middle;\n",
       "    }\n",
       "\n",
       "    .dataframe tbody tr th {\n",
       "        vertical-align: top;\n",
       "    }\n",
       "\n",
       "    .dataframe thead th {\n",
       "        text-align: right;\n",
       "    }\n",
       "</style>\n",
       "<table border=\"1\" class=\"dataframe\">\n",
       "  <thead>\n",
       "    <tr style=\"text-align: right;\">\n",
       "      <th></th>\n",
       "      <th>reviews</th>\n",
       "      <th>stars</th>\n",
       "      <th>date</th>\n",
       "      <th>country</th>\n",
       "      <th>verified</th>\n",
       "      <th>corpus</th>\n",
       "    </tr>\n",
       "  </thead>\n",
       "  <tbody>\n",
       "    <tr>\n",
       "      <th>0</th>\n",
       "      <td>Not Verified | Worst experience ever. Outbound...</td>\n",
       "      <td>5</td>\n",
       "      <td>2022-11-07</td>\n",
       "      <td>Italy</td>\n",
       "      <td>False</td>\n",
       "      <td>verified worst experience ever outbound flight...</td>\n",
       "    </tr>\n",
       "    <tr>\n",
       "      <th>1</th>\n",
       "      <td>✅ Trip Verified |  Check in was a shambles at ...</td>\n",
       "      <td>1</td>\n",
       "      <td>2022-11-07</td>\n",
       "      <td>Malaysia</td>\n",
       "      <td>True</td>\n",
       "      <td>check shamble bwi counter open full flight bag...</td>\n",
       "    </tr>\n",
       "    <tr>\n",
       "      <th>2</th>\n",
       "      <td>✅ Trip Verified | Beyond disgusted with the fa...</td>\n",
       "      <td>5</td>\n",
       "      <td>2022-11-05</td>\n",
       "      <td>United Arab Emirates</td>\n",
       "      <td>True</td>\n",
       "      <td>beyond disgusted fact baggage yet delivered we...</td>\n",
       "    </tr>\n",
       "    <tr>\n",
       "      <th>3</th>\n",
       "      <td>✅ Trip Verified | On July 19th 2022 I had subm...</td>\n",
       "      <td>1</td>\n",
       "      <td>2022-10-31</td>\n",
       "      <td>United States</td>\n",
       "      <td>True</td>\n",
       "      <td>july th submitted complaint form regard fact b...</td>\n",
       "    </tr>\n",
       "    <tr>\n",
       "      <th>4</th>\n",
       "      <td>✅ Trip Verified |  I booked the flight on Oct ...</td>\n",
       "      <td>1</td>\n",
       "      <td>2022-10-31</td>\n",
       "      <td>United States</td>\n",
       "      <td>True</td>\n",
       "      <td>booked flight oct cancel flight day learning g...</td>\n",
       "    </tr>\n",
       "    <tr>\n",
       "      <th>...</th>\n",
       "      <td>...</td>\n",
       "      <td>...</td>\n",
       "      <td>...</td>\n",
       "      <td>...</td>\n",
       "      <td>...</td>\n",
       "      <td>...</td>\n",
       "    </tr>\n",
       "    <tr>\n",
       "      <th>3406</th>\n",
       "      <td>This was a bmi Regional operated flight on a R...</td>\n",
       "      <td>1</td>\n",
       "      <td>2012-08-29</td>\n",
       "      <td>United Kingdom</td>\n",
       "      <td>False</td>\n",
       "      <td>bmi regional operated flight rj manchester hea...</td>\n",
       "    </tr>\n",
       "    <tr>\n",
       "      <th>3407</th>\n",
       "      <td>LHR to HAM. Purser addresses all club passenge...</td>\n",
       "      <td>10</td>\n",
       "      <td>2012-08-28</td>\n",
       "      <td>United Kingdom</td>\n",
       "      <td>False</td>\n",
       "      <td>lhr ham purser address club passenger name boa...</td>\n",
       "    </tr>\n",
       "    <tr>\n",
       "      <th>3408</th>\n",
       "      <td>My son who had worked for British Airways urge...</td>\n",
       "      <td>10</td>\n",
       "      <td>2011-10-12</td>\n",
       "      <td>United Kingdom</td>\n",
       "      <td>False</td>\n",
       "      <td>son worked british airway urged fly british ai...</td>\n",
       "    </tr>\n",
       "    <tr>\n",
       "      <th>3409</th>\n",
       "      <td>London City-New York JFK via Shannon on A318 b...</td>\n",
       "      <td>8</td>\n",
       "      <td>2011-10-11</td>\n",
       "      <td>United States</td>\n",
       "      <td>False</td>\n",
       "      <td>london city new york jfk via shannon really ni...</td>\n",
       "    </tr>\n",
       "    <tr>\n",
       "      <th>3410</th>\n",
       "      <td>SIN-LHR BA12 B747-436 First Class. Old aircraf...</td>\n",
       "      <td>9</td>\n",
       "      <td>2011-10-09</td>\n",
       "      <td>United Kingdom</td>\n",
       "      <td>False</td>\n",
       "      <td>sin lhr ba b first class old aircraft seat pri...</td>\n",
       "    </tr>\n",
       "  </tbody>\n",
       "</table>\n",
       "<p>3411 rows × 6 columns</p>\n",
       "</div>"
      ],
      "text/plain": [
       "                                                reviews stars       date  \\\n",
       "0     Not Verified | Worst experience ever. Outbound...     5 2022-11-07   \n",
       "1     ✅ Trip Verified |  Check in was a shambles at ...     1 2022-11-07   \n",
       "2     ✅ Trip Verified | Beyond disgusted with the fa...     5 2022-11-05   \n",
       "3     ✅ Trip Verified | On July 19th 2022 I had subm...     1 2022-10-31   \n",
       "4     ✅ Trip Verified |  I booked the flight on Oct ...     1 2022-10-31   \n",
       "...                                                 ...   ...        ...   \n",
       "3406  This was a bmi Regional operated flight on a R...     1 2012-08-29   \n",
       "3407  LHR to HAM. Purser addresses all club passenge...    10 2012-08-28   \n",
       "3408  My son who had worked for British Airways urge...    10 2011-10-12   \n",
       "3409  London City-New York JFK via Shannon on A318 b...     8 2011-10-11   \n",
       "3410  SIN-LHR BA12 B747-436 First Class. Old aircraf...     9 2011-10-09   \n",
       "\n",
       "                   country  verified  \\\n",
       "0                    Italy     False   \n",
       "1                 Malaysia      True   \n",
       "2     United Arab Emirates      True   \n",
       "3            United States      True   \n",
       "4            United States      True   \n",
       "...                    ...       ...   \n",
       "3406        United Kingdom     False   \n",
       "3407        United Kingdom     False   \n",
       "3408        United Kingdom     False   \n",
       "3409         United States     False   \n",
       "3410        United Kingdom     False   \n",
       "\n",
       "                                                 corpus  \n",
       "0     verified worst experience ever outbound flight...  \n",
       "1     check shamble bwi counter open full flight bag...  \n",
       "2     beyond disgusted fact baggage yet delivered we...  \n",
       "3     july th submitted complaint form regard fact b...  \n",
       "4     booked flight oct cancel flight day learning g...  \n",
       "...                                                 ...  \n",
       "3406  bmi regional operated flight rj manchester hea...  \n",
       "3407  lhr ham purser address club passenger name boa...  \n",
       "3408  son worked british airway urged fly british ai...  \n",
       "3409  london city new york jfk via shannon really ni...  \n",
       "3410  sin lhr ba b first class old aircraft seat pri...  \n",
       "\n",
       "[3411 rows x 6 columns]"
      ]
     },
     "execution_count": 28,
     "metadata": {},
     "output_type": "execute_result"
    }
   ],
   "source": [
    "#resetting the index\n",
    "df.reset_index(drop=True)"
   ]
  },
  {
   "cell_type": "markdown",
   "metadata": {},
   "source": [
    "*****"
   ]
  },
  {
   "cell_type": "markdown",
   "metadata": {},
   "source": [
    "Now our data is all cleaned and ready for data visualization and data analysis."
   ]
  },
  {
   "cell_type": "code",
   "execution_count": 29,
   "metadata": {},
   "outputs": [],
   "source": [
    "# export the cleaned data\n",
    "\n",
    "df.to_csv(cwd + \"/cleaned-BA-reviews.csv\")"
   ]
  },
  {
   "cell_type": "code",
   "execution_count": null,
   "metadata": {},
   "outputs": [],
   "source": []
  }
 ],
 "metadata": {
  "kernelspec": {
   "display_name": "Python 3",
   "language": "python",
   "name": "python3"
  },
  "language_info": {
   "codemirror_mode": {
    "name": "ipython",
    "version": 3
   },
   "file_extension": ".py",
   "mimetype": "text/x-python",
   "name": "python",
   "nbconvert_exporter": "python",
   "pygments_lexer": "ipython3",
   "version": "3.6.4"
  }
 },
 "nbformat": 4,
 "nbformat_minor": 5
}
